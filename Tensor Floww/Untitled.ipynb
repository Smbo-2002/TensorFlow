{
 "cells": [
  {
   "cell_type": "code",
   "execution_count": 2,
   "metadata": {
    "collapsed": false,
    "deletable": true,
    "editable": true
   },
   "outputs": [
    {
     "name": "stdout",
     "output_type": "stream",
     "text": [
      "b'Hello world!'\n",
      "6\n"
     ]
    },
    {
     "data": {
      "text/plain": [
       "4"
      ]
     },
     "execution_count": 2,
     "metadata": {},
     "output_type": "execute_result"
    }
   ],
   "source": [
    "import tensorflow as tf\n",
    "k = tf.constant('Hello world!')\n",
    "with tf.Session() as sess:\n",
    "    print(sess.run(k))\n",
    "x = tf.constant(2)\n",
    "y = tf.constant(3)\n",
    "tf_z = tf.multiply(x,y)\n",
    "with tf.Session() as sess:\n",
    "    print(sess.run(tf_z))\n",
    "graph = tf.get_default_graph()\n",
    "gop = graph.get_operations()\n",
    "len(gop)"
   ]
  },
  {
   "cell_type": "code",
   "execution_count": 2,
   "metadata": {
    "collapsed": false,
    "deletable": true,
    "editable": true
   },
   "outputs": [
    {
     "name": "stdout",
     "output_type": "stream",
     "text": [
      "name: \"output\"\n",
      "op: \"Mul\"\n",
      "input: \"Const\"\n",
      "input: \"Variable/read\"\n",
      "attr {\n",
      "  key: \"T\"\n",
      "  value {\n",
      "    type: DT_FLOAT\n",
      "  }\n",
      "}\n",
      "\n",
      "7.2\n",
      "2.504\n",
      "2.504\n",
      "2.68141\n",
      "2.74386\n",
      "2.76584\n",
      "2.77357\n",
      "2.7763\n",
      "2.77726\n",
      "2.77759\n",
      "2.77771\n",
      "2.77776\n",
      "2.77777\n",
      "2.77778\n",
      "2.77778\n",
      "2.77778\n",
      "2.77778\n",
      "2.77778\n",
      "2.77778\n",
      "2.77778\n",
      "2.77778\n",
      "2.77778\n"
     ]
    }
   ],
   "source": [
    "with tf.Graph().as_default() as g:\n",
    "    with tf.Session() as sess:\n",
    "        tf_input = tf.constant(3.6)\n",
    "        weight = tf.Variable(2.0)\n",
    "        output = tf.multiply(tf_input, weight, name=\"output\")\n",
    "        print(g.get_operation_by_name(\"output\"))\n",
    "        sess.run(tf.global_variables_initializer())\n",
    "        print(sess.run(output))\n",
    "        output_ = tf.constant(10.0)\n",
    "        loss = (output - output_)**2\n",
    "        optimizer = tf.train.GradientDescentOptimizer( 0.025)\n",
    "        train_step = optimizer.minimize(loss)\n",
    "        sess.run(train_step)\n",
    "        print(sess.run(weight))\n",
    "        sess.run(tf.global_variables_initializer())\n",
    "        for i in range(20):\n",
    "            sess.run(train_step)\n",
    "            print(sess.run(weight))"
   ]
  },
  {
   "cell_type": "code",
   "execution_count": 42,
   "metadata": {
    "collapsed": false,
    "deletable": true,
    "editable": true
   },
   "outputs": [
    {
     "name": "stdout",
     "output_type": "stream",
     "text": [
      "0.111601\n",
      "0.0127647\n"
     ]
    }
   ],
   "source": [
    "with tf.Graph().as_default() as g:\n",
    "    with tf.Session() as sess:\n",
    "        input_data = [[10, 7], [5, 4], [8, 3], [2, 8], [4, 8], [9, 1], [6, 8], [1, 7], [5, 3], [7, 6]]\n",
    "        output_data = [[97], [71], [74], [78], [90], [68], [95], [65], [70], [82]]\n",
    "        in_holder = tf.placeholder(tf.float32)\n",
    "        out_holder = tf.placeholder(tf.float32)\n",
    "        feed_dict = {in_holder:input_data, out_holder:output_data}\n",
    "#         print(sess.run(in_holder, feed_dict = feed_dict))\n",
    "        max_input = tf.reduce_max(in_holder, 0)\n",
    "#         print(sess.run(max_input, feed_dict = feed_dict),\"asdasd\")\n",
    "        normalized_input = tf.divide(in_holder, max_input)\n",
    "        \n",
    "        max_output = tf.reduce_max(out_holder, 0)\n",
    "        normalized_output = tf.divide(out_holder, max_output)\n",
    "#         print(sess.run(normalized_input, feed_dict = feed_dict))\n",
    "#         print(sess.run(normalized_output, feed_dict = feed_dict))\n",
    "        \n",
    "        \n",
    "        num_neurons_1 = 2\n",
    "        num_neurons_2 = 3\n",
    "        num_neurons_3 = 1\n",
    "        \n",
    "        weights_1 = tf.Variable(tf.zeros([num_neurons_1, num_neurons_2]))\n",
    "        bias_1 = tf.Variable(tf.zeros(num_neurons_2))\n",
    "        weighted_sums_1 = tf.matmul(normalized_input, weights_1) + bias_1\n",
    "        activation_1 = tf.sigmoid(weighted_sums_1)\n",
    "        \n",
    "        weights_2 = tf.Variable(tf.zeros([num_neurons_2, num_neurons_3]))\n",
    "        bias_2= tf.Variable(tf.zeros(num_neurons_3))\n",
    "        weighted_sums_2 = tf.matmul(activation_1, weights_2) + bias_2\n",
    "        activation_2 = tf.sigmoid(weighted_sums_2)\n",
    "        \n",
    "        loss = tf.reduce_sum((activation_2 - normalized_output)**2)/10\n",
    "        optimizer = tf.train.GradientDescentOptimizer(0.025)\n",
    "        train_step = optimizer.minimize(loss)\n",
    "        sess.run(tf.global_variables_initializer())\n",
    "        print(sess.run(loss, feed_dict = feed_dict))\n",
    "        for i in range(1000):\n",
    "            sess.run(train_step, feed_dict = feed_dict)\n",
    "        \n",
    "    \n",
    "        print(sess.run(loss, feed_dict = feed_dict))"
   ]
  },
  {
   "cell_type": "code",
   "execution_count": null,
   "metadata": {
    "collapsed": true,
    "deletable": true,
    "editable": true
   },
   "outputs": [],
   "source": [
    "#mean square difference\n",
    "#cross-entr\n",
    "#activation "
   ]
  },
  {
   "cell_type": "code",
   "execution_count": null,
   "metadata": {
    "collapsed": true,
    "deletable": true,
    "editable": true
   },
   "outputs": [],
   "source": [
    "import tensorflow as tf\n",
    "from tenserflow.examples.tutorials.mnist import input_data\n",
    "\n",
    "mnist = input_data.read_data_sets(\"MNIST_data/\", one_hot=True)"
   ]
  }
 ],
 "metadata": {
  "kernelspec": {
   "display_name": "Python 3",
   "language": "python",
   "name": "python3"
  },
  "language_info": {
   "codemirror_mode": {
    "name": "ipython",
    "version": 3
   },
   "file_extension": ".py",
   "mimetype": "text/x-python",
   "name": "python",
   "nbconvert_exporter": "python",
   "pygments_lexer": "ipython3",
   "version": "3.6.0"
  }
 },
 "nbformat": 4,
 "nbformat_minor": 2
}
